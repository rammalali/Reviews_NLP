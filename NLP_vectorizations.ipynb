{
 "cells": [
  {
   "cell_type": "code",
   "execution_count": 2,
   "id": "c3a5b72b-663b-4869-af0f-b3e31b602a36",
   "metadata": {},
   "outputs": [],
   "source": [
    "import pandas as pd"
   ]
  },
  {
   "cell_type": "code",
   "execution_count": 3,
   "id": "8850cc02-2bfb-470d-b290-102c9ce8868e",
   "metadata": {},
   "outputs": [
    {
     "data": {
      "text/html": [
       "<div>\n",
       "<style scoped>\n",
       "    .dataframe tbody tr th:only-of-type {\n",
       "        vertical-align: middle;\n",
       "    }\n",
       "\n",
       "    .dataframe tbody tr th {\n",
       "        vertical-align: top;\n",
       "    }\n",
       "\n",
       "    .dataframe thead th {\n",
       "        text-align: right;\n",
       "    }\n",
       "</style>\n",
       "<table border=\"1\" class=\"dataframe\">\n",
       "  <thead>\n",
       "    <tr style=\"text-align: right;\">\n",
       "      <th></th>\n",
       "      <th>Id</th>\n",
       "      <th>ProductId</th>\n",
       "      <th>UserId</th>\n",
       "      <th>ProfileName</th>\n",
       "      <th>HelpfulnessNumerator</th>\n",
       "      <th>HelpfulnessDenominator</th>\n",
       "      <th>Score</th>\n",
       "      <th>Time</th>\n",
       "      <th>Summary</th>\n",
       "      <th>Text</th>\n",
       "      <th>label</th>\n",
       "      <th>text_cleaned</th>\n",
       "      <th>lemmatized_text</th>\n",
       "    </tr>\n",
       "  </thead>\n",
       "  <tbody>\n",
       "    <tr>\n",
       "      <th>0</th>\n",
       "      <td>1</td>\n",
       "      <td>B001E4KFG0</td>\n",
       "      <td>A3SGXH7AUHU8GW</td>\n",
       "      <td>delmartian</td>\n",
       "      <td>1</td>\n",
       "      <td>1</td>\n",
       "      <td>5</td>\n",
       "      <td>1303862400</td>\n",
       "      <td>Good Quality Dog Food</td>\n",
       "      <td>I have bought several of the Vitality canned d...</td>\n",
       "      <td>1</td>\n",
       "      <td>['bought', 'several', 'vitality', 'canned', 'd...</td>\n",
       "      <td>bought several vitality canned dog food produc...</td>\n",
       "    </tr>\n",
       "  </tbody>\n",
       "</table>\n",
       "</div>"
      ],
      "text/plain": [
       "   Id   ProductId          UserId ProfileName  HelpfulnessNumerator  \\\n",
       "0   1  B001E4KFG0  A3SGXH7AUHU8GW  delmartian                     1   \n",
       "\n",
       "   HelpfulnessDenominator  Score        Time                Summary  \\\n",
       "0                       1      5  1303862400  Good Quality Dog Food   \n",
       "\n",
       "                                                Text  label  \\\n",
       "0  I have bought several of the Vitality canned d...      1   \n",
       "\n",
       "                                        text_cleaned  \\\n",
       "0  ['bought', 'several', 'vitality', 'canned', 'd...   \n",
       "\n",
       "                                     lemmatized_text  \n",
       "0  bought several vitality canned dog food produc...  "
      ]
     },
     "execution_count": 3,
     "metadata": {},
     "output_type": "execute_result"
    }
   ],
   "source": [
    "df = pd.read_csv('./datasets/text_cleaned.csv')\n",
    "df.head(1)"
   ]
  },
  {
   "cell_type": "code",
   "execution_count": 4,
   "id": "7547cdae-215e-4e1e-ae51-edd9b77020e9",
   "metadata": {},
   "outputs": [],
   "source": [
    "# df['lemmatized_text'] = df['lemmatized_text'].apply(lambda x: x.split())"
   ]
  },
  {
   "cell_type": "code",
   "execution_count": 5,
   "id": "9e2e32f4-f160-49fe-acb3-8a7e2bd28a76",
   "metadata": {},
   "outputs": [],
   "source": [
    "from sklearn.model_selection import train_test_split\n",
    "\n",
    "train_data, test_data = train_test_split(df, test_size=0.2)\n",
    "train_data, validation_data = train_test_split(train_data, test_size=0.20)\n"
   ]
  },
  {
   "cell_type": "code",
   "execution_count": 6,
   "id": "54760064-e894-4c15-9912-2658daf2d102",
   "metadata": {},
   "outputs": [
    {
     "name": "stdout",
     "output_type": "stream",
     "text": [
      "(252108, 13)\n",
      "(78784, 13)\n"
     ]
    }
   ],
   "source": [
    "print(train_data.shape)\n",
    "print(test_data.shape)"
   ]
  },
  {
   "cell_type": "code",
   "execution_count": 7,
   "id": "f27d9568-219f-4190-a11a-d7c00cab3ba8",
   "metadata": {},
   "outputs": [],
   "source": [
    "from sklearn.feature_extraction.text import CountVectorizer"
   ]
  },
  {
   "cell_type": "code",
   "execution_count": 8,
   "id": "24b2229d-2cc9-478e-af43-0db43970c805",
   "metadata": {},
   "outputs": [],
   "source": [
    "bow_vectorizer = CountVectorizer(ngram_range=(1,3), analyzer = 'word')"
   ]
  },
  {
   "cell_type": "code",
   "execution_count": 9,
   "id": "1dcba0bc-83e3-4c55-a5cf-f8bf533de393",
   "metadata": {},
   "outputs": [
    {
     "data": {
      "text/plain": [
       "pandas.core.series.Series"
      ]
     },
     "execution_count": 9,
     "metadata": {},
     "output_type": "execute_result"
    }
   ],
   "source": [
    "type(train_data['lemmatized_text'])"
   ]
  },
  {
   "cell_type": "code",
   "execution_count": 10,
   "id": "6a3d80c9-57d0-4f70-88af-fe84abb58878",
   "metadata": {},
   "outputs": [],
   "source": [
    "X_train = bow_vectorizer.fit_transform(train_data['lemmatized_text'])"
   ]
  },
  {
   "cell_type": "code",
   "execution_count": 11,
   "id": "61a8a6f6-4d3b-4de4-a888-669f8a68346b",
   "metadata": {},
   "outputs": [],
   "source": [
    "X_test = bow_vectorizer.transform(test_data['lemmatized_text'])"
   ]
  },
  {
   "cell_type": "code",
   "execution_count": 12,
   "id": "44bae223-a8cf-4284-a680-29b10007d746",
   "metadata": {},
   "outputs": [],
   "source": [
    "X_validation = bow_vectorizer.transform(validation_data['lemmatized_text'])"
   ]
  },
  {
   "cell_type": "code",
   "execution_count": 14,
   "id": "3780a4f3-bfe5-41cf-a20a-7f2f2dbdbbca",
   "metadata": {},
   "outputs": [
    {
     "name": "stdout",
     "output_type": "stream",
     "text": [
      "  (0, 682851)\t1\n",
      "  (0, 683157)\t1\n",
      "  (0, 683159)\t1\n",
      "  (0, 768093)\t1\n",
      "  (0, 780243)\t1\n",
      "  (0, 780250)\t1\n",
      "  (0, 1079670)\t1\n",
      "  (0, 1082581)\t1\n",
      "  (0, 1087215)\t1\n",
      "  (0, 1087886)\t1\n",
      "  (0, 1135308)\t1\n",
      "  (0, 1135532)\t1\n",
      "  (0, 1341973)\t1\n",
      "  (0, 1362016)\t1\n",
      "  (0, 1362041)\t1\n",
      "  (0, 1914824)\t1\n",
      "  (0, 1915335)\t1\n",
      "  (0, 1915337)\t1\n",
      "  (0, 2730870)\t1\n",
      "  (0, 2734230)\t1\n",
      "  (0, 2734231)\t1\n",
      "  (0, 2832179)\t1\n",
      "  (0, 2835996)\t1\n",
      "  (0, 2836011)\t1\n",
      "  (0, 2892911)\t1\n",
      "  :\t:\n",
      "  (0, 9438658)\t1\n",
      "  (0, 9452422)\t1\n",
      "  (0, 9452540)\t1\n",
      "  (0, 9534712)\t3\n",
      "  (0, 9537916)\t1\n",
      "  (0, 9538313)\t1\n",
      "  (0, 9547204)\t1\n",
      "  (0, 9547517)\t1\n",
      "  (0, 9575432)\t1\n",
      "  (0, 9575458)\t1\n",
      "  (0, 9581427)\t1\n",
      "  (0, 9581534)\t1\n",
      "  (0, 9581535)\t1\n",
      "  (0, 9758636)\t1\n",
      "  (0, 9775885)\t1\n",
      "  (0, 9775887)\t1\n",
      "  (0, 10057991)\t1\n",
      "  (0, 10071523)\t1\n",
      "  (0, 10071569)\t1\n",
      "  (0, 10106731)\t1\n",
      "  (0, 10120721)\t1\n",
      "  (0, 10121020)\t1\n",
      "  (0, 10188375)\t1\n",
      "  (0, 10191088)\t1\n",
      "  (0, 10191091)\t1\n"
     ]
    }
   ],
   "source": [
    "print(X_train)"
   ]
  },
  {
   "cell_type": "code",
   "execution_count": 15,
   "id": "846dadb2-d402-44fd-aacd-f1bf690b6c3c",
   "metadata": {},
   "outputs": [
    {
     "name": "stdout",
     "output_type": "stream",
     "text": [
      "bought several vitality canned dog food product found good quality . product look like stew processed meat smell better . labrador finicky appreciates product better most . \n",
      "--------------\n",
      "\n"
     ]
    }
   ],
   "source": [
    "print(df['lemmatized_text'][0],'\\n--------------\\n')"
   ]
  },
  {
   "cell_type": "code",
   "execution_count": 16,
   "id": "c1e9b3a5-9505-4b33-b86d-b763f23de5d8",
   "metadata": {},
   "outputs": [],
   "source": [
    "y_train = train_data['label']\n",
    "y_test = test_data['label']\n",
    "y_validation = validation_data['label']"
   ]
  },
  {
   "cell_type": "code",
   "execution_count": 17,
   "id": "af67df32-3a15-48a3-af6a-ca4d17e581f2",
   "metadata": {},
   "outputs": [
    {
     "name": "stderr",
     "output_type": "stream",
     "text": [
      "/home/rammalali/anaconda3/lib/python3.10/site-packages/sklearn/svm/_base.py:1244: ConvergenceWarning: Liblinear failed to converge, increase the number of iterations.\n",
      "  warnings.warn(\n"
     ]
    },
    {
     "data": {
      "text/html": [
       "<style>#sk-container-id-1 {color: black;background-color: white;}#sk-container-id-1 pre{padding: 0;}#sk-container-id-1 div.sk-toggleable {background-color: white;}#sk-container-id-1 label.sk-toggleable__label {cursor: pointer;display: block;width: 100%;margin-bottom: 0;padding: 0.3em;box-sizing: border-box;text-align: center;}#sk-container-id-1 label.sk-toggleable__label-arrow:before {content: \"▸\";float: left;margin-right: 0.25em;color: #696969;}#sk-container-id-1 label.sk-toggleable__label-arrow:hover:before {color: black;}#sk-container-id-1 div.sk-estimator:hover label.sk-toggleable__label-arrow:before {color: black;}#sk-container-id-1 div.sk-toggleable__content {max-height: 0;max-width: 0;overflow: hidden;text-align: left;background-color: #f0f8ff;}#sk-container-id-1 div.sk-toggleable__content pre {margin: 0.2em;color: black;border-radius: 0.25em;background-color: #f0f8ff;}#sk-container-id-1 input.sk-toggleable__control:checked~div.sk-toggleable__content {max-height: 200px;max-width: 100%;overflow: auto;}#sk-container-id-1 input.sk-toggleable__control:checked~label.sk-toggleable__label-arrow:before {content: \"▾\";}#sk-container-id-1 div.sk-estimator input.sk-toggleable__control:checked~label.sk-toggleable__label {background-color: #d4ebff;}#sk-container-id-1 div.sk-label input.sk-toggleable__control:checked~label.sk-toggleable__label {background-color: #d4ebff;}#sk-container-id-1 input.sk-hidden--visually {border: 0;clip: rect(1px 1px 1px 1px);clip: rect(1px, 1px, 1px, 1px);height: 1px;margin: -1px;overflow: hidden;padding: 0;position: absolute;width: 1px;}#sk-container-id-1 div.sk-estimator {font-family: monospace;background-color: #f0f8ff;border: 1px dotted black;border-radius: 0.25em;box-sizing: border-box;margin-bottom: 0.5em;}#sk-container-id-1 div.sk-estimator:hover {background-color: #d4ebff;}#sk-container-id-1 div.sk-parallel-item::after {content: \"\";width: 100%;border-bottom: 1px solid gray;flex-grow: 1;}#sk-container-id-1 div.sk-label:hover label.sk-toggleable__label {background-color: #d4ebff;}#sk-container-id-1 div.sk-serial::before {content: \"\";position: absolute;border-left: 1px solid gray;box-sizing: border-box;top: 0;bottom: 0;left: 50%;z-index: 0;}#sk-container-id-1 div.sk-serial {display: flex;flex-direction: column;align-items: center;background-color: white;padding-right: 0.2em;padding-left: 0.2em;position: relative;}#sk-container-id-1 div.sk-item {position: relative;z-index: 1;}#sk-container-id-1 div.sk-parallel {display: flex;align-items: stretch;justify-content: center;background-color: white;position: relative;}#sk-container-id-1 div.sk-item::before, #sk-container-id-1 div.sk-parallel-item::before {content: \"\";position: absolute;border-left: 1px solid gray;box-sizing: border-box;top: 0;bottom: 0;left: 50%;z-index: -1;}#sk-container-id-1 div.sk-parallel-item {display: flex;flex-direction: column;z-index: 1;position: relative;background-color: white;}#sk-container-id-1 div.sk-parallel-item:first-child::after {align-self: flex-end;width: 50%;}#sk-container-id-1 div.sk-parallel-item:last-child::after {align-self: flex-start;width: 50%;}#sk-container-id-1 div.sk-parallel-item:only-child::after {width: 0;}#sk-container-id-1 div.sk-dashed-wrapped {border: 1px dashed gray;margin: 0 0.4em 0.5em 0.4em;box-sizing: border-box;padding-bottom: 0.4em;background-color: white;}#sk-container-id-1 div.sk-label label {font-family: monospace;font-weight: bold;display: inline-block;line-height: 1.2em;}#sk-container-id-1 div.sk-label-container {text-align: center;}#sk-container-id-1 div.sk-container {/* jupyter's `normalize.less` sets `[hidden] { display: none; }` but bootstrap.min.css set `[hidden] { display: none !important; }` so we also need the `!important` here to be able to override the default hidden behavior on the sphinx rendered scikit-learn.org. See: https://github.com/scikit-learn/scikit-learn/issues/21755 */display: inline-block !important;position: relative;}#sk-container-id-1 div.sk-text-repr-fallback {display: none;}</style><div id=\"sk-container-id-1\" class=\"sk-top-container\"><div class=\"sk-text-repr-fallback\"><pre>LogisticRegression(max_iter=10, solver=&#x27;liblinear&#x27;)</pre><b>In a Jupyter environment, please rerun this cell to show the HTML representation or trust the notebook. <br />On GitHub, the HTML representation is unable to render, please try loading this page with nbviewer.org.</b></div><div class=\"sk-container\" hidden><div class=\"sk-item\"><div class=\"sk-estimator sk-toggleable\"><input class=\"sk-toggleable__control sk-hidden--visually\" id=\"sk-estimator-id-1\" type=\"checkbox\" checked><label for=\"sk-estimator-id-1\" class=\"sk-toggleable__label sk-toggleable__label-arrow\">LogisticRegression</label><div class=\"sk-toggleable__content\"><pre>LogisticRegression(max_iter=10, solver=&#x27;liblinear&#x27;)</pre></div></div></div></div></div>"
      ],
      "text/plain": [
       "LogisticRegression(max_iter=10, solver='liblinear')"
      ]
     },
     "execution_count": 17,
     "metadata": {},
     "output_type": "execute_result"
    }
   ],
   "source": [
    "from sklearn.linear_model import LogisticRegression\n",
    "\n",
    "logistic1 = LogisticRegression(solver='liblinear', max_iter=10, penalty='l2')\n",
    "logistic1.fit(X_train, y_train)"
   ]
  },
  {
   "cell_type": "code",
   "execution_count": 23,
   "id": "9a76bfae-e457-4b5b-92f1-b3de14522bba",
   "metadata": {},
   "outputs": [
    {
     "name": "stdout",
     "output_type": "stream",
     "text": [
      "              precision    recall  f1-score   support\n",
      "\n",
      "           0       0.82      0.68      0.74     13959\n",
      "           1       0.91      0.96      0.93     49068\n",
      "\n",
      "    accuracy                           0.89     63027\n",
      "   macro avg       0.86      0.82      0.84     63027\n",
      "weighted avg       0.89      0.89      0.89     63027\n",
      "\n"
     ]
    }
   ],
   "source": [
    "# val_accuracy = logistic1.score(validation_data, y_validation)\n",
    "# print(\"Validation accuracy:\", val_accuracy)\n",
    "\n",
    "\n",
    "from sklearn.metrics import classification_report\n",
    "\n",
    "y_pred = logistic1.predict(X_validation)\n",
    "report = classification_report(y_validation, y_pred)\n",
    "print(report)"
   ]
  },
  {
   "cell_type": "code",
   "execution_count": null,
   "id": "8694bc20-0937-446b-89d1-cd1a2e480097",
   "metadata": {},
   "outputs": [],
   "source": []
  }
 ],
 "metadata": {
  "kernelspec": {
   "display_name": "Python 3 (ipykernel)",
   "language": "python",
   "name": "python3"
  },
  "language_info": {
   "codemirror_mode": {
    "name": "ipython",
    "version": 3
   },
   "file_extension": ".py",
   "mimetype": "text/x-python",
   "name": "python",
   "nbconvert_exporter": "python",
   "pygments_lexer": "ipython3",
   "version": "3.10.9"
  }
 },
 "nbformat": 4,
 "nbformat_minor": 5
}
